{
 "cells": [
  {
   "cell_type": "code",
   "execution_count": 36,
   "id": "eef8770c",
   "metadata": {},
   "outputs": [],
   "source": [
    "import re\n",
    "import pandas as pd\n",
    "import csv\n",
    "import branca\n",
    "\n",
    "import folium\n",
    "import json"
   ]
  },
  {
   "cell_type": "code",
   "execution_count": 87,
   "id": "54d37dc1",
   "metadata": {},
   "outputs": [],
   "source": [
    "df = pd.read_csv(r'/Users/shirindarwish/Desktop/FAM.csv', sep='[;]' ,encoding = \"ISO-8859-1\", engine = 'python')"
   ]
  },
  {
   "cell_type": "code",
   "execution_count": 88,
   "id": "b2d6ca94",
   "metadata": {},
   "outputs": [
    {
     "data": {
      "text/html": [
       "<div>\n",
       "<style scoped>\n",
       "    .dataframe tbody tr th:only-of-type {\n",
       "        vertical-align: middle;\n",
       "    }\n",
       "\n",
       "    .dataframe tbody tr th {\n",
       "        vertical-align: top;\n",
       "    }\n",
       "\n",
       "    .dataframe thead th {\n",
       "        text-align: right;\n",
       "    }\n",
       "</style>\n",
       "<table border=\"1\" class=\"dataframe\">\n",
       "  <thead>\n",
       "    <tr style=\"text-align: right;\">\n",
       "      <th></th>\n",
       "      <th>Datum</th>\n",
       "      <th>Ort</th>\n",
       "      <th>Taeter</th>\n",
       "      <th>Koordinaten A</th>\n",
       "      <th>Koordinaten B</th>\n",
       "    </tr>\n",
       "  </thead>\n",
       "  <tbody>\n",
       "    <tr>\n",
       "      <th>0</th>\n",
       "      <td>08.01.22</td>\n",
       "      <td>Weissenkirchen im Attergau, Bezirk Voecklabruc...</td>\n",
       "      <td>Ehemann</td>\n",
       "      <td>47.949966</td>\n",
       "      <td>13.411037</td>\n",
       "    </tr>\n",
       "    <tr>\n",
       "      <th>1</th>\n",
       "      <td>12.01.22</td>\n",
       "      <td>Sollenau, Bezirk Wiener Neustadt-Land / NOE</td>\n",
       "      <td>Vater</td>\n",
       "      <td>47.899473</td>\n",
       "      <td>16.246334</td>\n",
       "    </tr>\n",
       "    <tr>\n",
       "      <th>2</th>\n",
       "      <td>01.02.22</td>\n",
       "      <td>Graz / Steiermark</td>\n",
       "      <td>Sohn</td>\n",
       "      <td>47.070868</td>\n",
       "      <td>15.438279</td>\n",
       "    </tr>\n",
       "    <tr>\n",
       "      <th>3</th>\n",
       "      <td>08.02.22</td>\n",
       "      <td>Graz / Steiermark</td>\n",
       "      <td>Bekannter</td>\n",
       "      <td>47.070868</td>\n",
       "      <td>15.438279</td>\n",
       "    </tr>\n",
       "    <tr>\n",
       "      <th>4</th>\n",
       "      <td>24.02.22</td>\n",
       "      <td>Wien Hietzing</td>\n",
       "      <td>Ehemann</td>\n",
       "      <td>48.178541</td>\n",
       "      <td>16.252986</td>\n",
       "    </tr>\n",
       "    <tr>\n",
       "      <th>5</th>\n",
       "      <td>04.03.22</td>\n",
       "      <td>Lustenau / Vorarlberg</td>\n",
       "      <td>Bekannte</td>\n",
       "      <td>47.427654</td>\n",
       "      <td>9.659941</td>\n",
       "    </tr>\n",
       "    <tr>\n",
       "      <th>6</th>\n",
       "      <td>23.03.22</td>\n",
       "      <td>Wien Hietzing</td>\n",
       "      <td>Ehemann</td>\n",
       "      <td>48.178541</td>\n",
       "      <td>16.252986</td>\n",
       "    </tr>\n",
       "    <tr>\n",
       "      <th>7</th>\n",
       "      <td>25.03.22</td>\n",
       "      <td>Stockerau, Bezirk Korneuburg / NOE</td>\n",
       "      <td>Lebensgefaehrter</td>\n",
       "      <td>48.384612</td>\n",
       "      <td>16.207630</td>\n",
       "    </tr>\n",
       "    <tr>\n",
       "      <th>8</th>\n",
       "      <td>25.04.22</td>\n",
       "      <td>Schwendt, Bezirk Kitzbuehel / Kaernten</td>\n",
       "      <td>Ehemann</td>\n",
       "      <td>47.618845</td>\n",
       "      <td>12.396294</td>\n",
       "    </tr>\n",
       "    <tr>\n",
       "      <th>9</th>\n",
       "      <td>11.05.22</td>\n",
       "      <td>Wien Landstrasse</td>\n",
       "      <td>Sohn</td>\n",
       "      <td>48.193644</td>\n",
       "      <td>16.396286</td>\n",
       "    </tr>\n",
       "    <tr>\n",
       "      <th>10</th>\n",
       "      <td>13.05.22</td>\n",
       "      <td>Piesendorf, Pinzgau / Salzburg</td>\n",
       "      <td>Ex-Mann</td>\n",
       "      <td>47.292129</td>\n",
       "      <td>12.716282</td>\n",
       "    </tr>\n",
       "    <tr>\n",
       "      <th>11</th>\n",
       "      <td>30.05.22</td>\n",
       "      <td>Reutte / Tirol</td>\n",
       "      <td>Beziehungspartner</td>\n",
       "      <td>47.361235</td>\n",
       "      <td>10.545680</td>\n",
       "    </tr>\n",
       "  </tbody>\n",
       "</table>\n",
       "</div>"
      ],
      "text/plain": [
       "       Datum                                                Ort  \\\n",
       "0   08.01.22  Weissenkirchen im Attergau, Bezirk Voecklabruc...   \n",
       "1   12.01.22        Sollenau, Bezirk Wiener Neustadt-Land / NOE   \n",
       "2   01.02.22                                  Graz / Steiermark   \n",
       "3   08.02.22                                  Graz / Steiermark   \n",
       "4   24.02.22                                      Wien Hietzing   \n",
       "5   04.03.22                              Lustenau / Vorarlberg   \n",
       "6   23.03.22                                      Wien Hietzing   \n",
       "7   25.03.22                 Stockerau, Bezirk Korneuburg / NOE   \n",
       "8   25.04.22             Schwendt, Bezirk Kitzbuehel / Kaernten   \n",
       "9   11.05.22                                   Wien Landstrasse   \n",
       "10  13.05.22                     Piesendorf, Pinzgau / Salzburg   \n",
       "11  30.05.22                                     Reutte / Tirol   \n",
       "\n",
       "               Taeter  Koordinaten A  Koordinaten B  \n",
       "0             Ehemann      47.949966      13.411037  \n",
       "1               Vater      47.899473      16.246334  \n",
       "2                Sohn      47.070868      15.438279  \n",
       "3           Bekannter      47.070868      15.438279  \n",
       "4             Ehemann      48.178541      16.252986  \n",
       "5            Bekannte      47.427654       9.659941  \n",
       "6             Ehemann      48.178541      16.252986  \n",
       "7    Lebensgefaehrter      48.384612      16.207630  \n",
       "8             Ehemann      47.618845      12.396294  \n",
       "9                Sohn      48.193644      16.396286  \n",
       "10            Ex-Mann      47.292129      12.716282  \n",
       "11  Beziehungspartner      47.361235      10.545680  "
      ]
     },
     "execution_count": 88,
     "metadata": {},
     "output_type": "execute_result"
    }
   ],
   "source": [
    "df"
   ]
  },
  {
   "cell_type": "code",
   "execution_count": 89,
   "id": "8d00c7b4",
   "metadata": {
    "scrolled": true
   },
   "outputs": [
    {
     "data": {
      "text/html": [
       "<div style=\"width:100%;\"><div style=\"position:relative;width:100%;height:0;padding-bottom:60%;\"><span style=\"color:#565656\">Make this Notebook Trusted to load map: File -> Trust Notebook</span><iframe src=\"about:blank\" style=\"position:absolute;width:100%;height:100%;left:0;top:0;border:none !important;\" data-html=%3C%21DOCTYPE%20html%3E%0A%3Chead%3E%20%20%20%20%0A%20%20%20%20%3Cmeta%20http-equiv%3D%22content-type%22%20content%3D%22text/html%3B%20charset%3DUTF-8%22%20/%3E%0A%20%20%20%20%0A%20%20%20%20%20%20%20%20%3Cscript%3E%0A%20%20%20%20%20%20%20%20%20%20%20%20L_NO_TOUCH%20%3D%20false%3B%0A%20%20%20%20%20%20%20%20%20%20%20%20L_DISABLE_3D%20%3D%20false%3B%0A%20%20%20%20%20%20%20%20%3C/script%3E%0A%20%20%20%20%0A%20%20%20%20%3Cstyle%3Ehtml%2C%20body%20%7Bwidth%3A%20100%25%3Bheight%3A%20100%25%3Bmargin%3A%200%3Bpadding%3A%200%3B%7D%3C/style%3E%0A%20%20%20%20%3Cstyle%3E%23map%20%7Bposition%3Aabsolute%3Btop%3A0%3Bbottom%3A0%3Bright%3A0%3Bleft%3A0%3B%7D%3C/style%3E%0A%20%20%20%20%3Cscript%20src%3D%22https%3A//cdn.jsdelivr.net/npm/leaflet%401.6.0/dist/leaflet.js%22%3E%3C/script%3E%0A%20%20%20%20%3Cscript%20src%3D%22https%3A//code.jquery.com/jquery-1.12.4.min.js%22%3E%3C/script%3E%0A%20%20%20%20%3Cscript%20src%3D%22https%3A//maxcdn.bootstrapcdn.com/bootstrap/3.2.0/js/bootstrap.min.js%22%3E%3C/script%3E%0A%20%20%20%20%3Cscript%20src%3D%22https%3A//cdnjs.cloudflare.com/ajax/libs/Leaflet.awesome-markers/2.0.2/leaflet.awesome-markers.js%22%3E%3C/script%3E%0A%20%20%20%20%3Clink%20rel%3D%22stylesheet%22%20href%3D%22https%3A//cdn.jsdelivr.net/npm/leaflet%401.6.0/dist/leaflet.css%22/%3E%0A%20%20%20%20%3Clink%20rel%3D%22stylesheet%22%20href%3D%22https%3A//maxcdn.bootstrapcdn.com/bootstrap/3.2.0/css/bootstrap.min.css%22/%3E%0A%20%20%20%20%3Clink%20rel%3D%22stylesheet%22%20href%3D%22https%3A//maxcdn.bootstrapcdn.com/bootstrap/3.2.0/css/bootstrap-theme.min.css%22/%3E%0A%20%20%20%20%3Clink%20rel%3D%22stylesheet%22%20href%3D%22https%3A//maxcdn.bootstrapcdn.com/font-awesome/4.6.3/css/font-awesome.min.css%22/%3E%0A%20%20%20%20%3Clink%20rel%3D%22stylesheet%22%20href%3D%22https%3A//cdnjs.cloudflare.com/ajax/libs/Leaflet.awesome-markers/2.0.2/leaflet.awesome-markers.css%22/%3E%0A%20%20%20%20%3Clink%20rel%3D%22stylesheet%22%20href%3D%22https%3A//cdn.jsdelivr.net/gh/python-visualization/folium/folium/templates/leaflet.awesome.rotate.min.css%22/%3E%0A%20%20%20%20%0A%20%20%20%20%20%20%20%20%20%20%20%20%3Cmeta%20name%3D%22viewport%22%20content%3D%22width%3Ddevice-width%2C%0A%20%20%20%20%20%20%20%20%20%20%20%20%20%20%20%20initial-scale%3D1.0%2C%20maximum-scale%3D1.0%2C%20user-scalable%3Dno%22%20/%3E%0A%20%20%20%20%20%20%20%20%20%20%20%20%3Cstyle%3E%0A%20%20%20%20%20%20%20%20%20%20%20%20%20%20%20%20%23map_2d682098ed5b4bfabcd0af6e26f44a3c%20%7B%0A%20%20%20%20%20%20%20%20%20%20%20%20%20%20%20%20%20%20%20%20position%3A%20relative%3B%0A%20%20%20%20%20%20%20%20%20%20%20%20%20%20%20%20%20%20%20%20width%3A%20100.0%25%3B%0A%20%20%20%20%20%20%20%20%20%20%20%20%20%20%20%20%20%20%20%20height%3A%20100.0%25%3B%0A%20%20%20%20%20%20%20%20%20%20%20%20%20%20%20%20%20%20%20%20left%3A%200.0%25%3B%0A%20%20%20%20%20%20%20%20%20%20%20%20%20%20%20%20%20%20%20%20top%3A%200.0%25%3B%0A%20%20%20%20%20%20%20%20%20%20%20%20%20%20%20%20%7D%0A%20%20%20%20%20%20%20%20%20%20%20%20%3C/style%3E%0A%20%20%20%20%20%20%20%20%0A%3C/head%3E%0A%3Cbody%3E%20%20%20%20%0A%20%20%20%20%0A%20%20%20%20%20%20%20%20%20%20%20%20%3Cdiv%20class%3D%22folium-map%22%20id%3D%22map_2d682098ed5b4bfabcd0af6e26f44a3c%22%20%3E%3C/div%3E%0A%20%20%20%20%20%20%20%20%0A%3C/body%3E%0A%3Cscript%3E%20%20%20%20%0A%20%20%20%20%0A%20%20%20%20%20%20%20%20%20%20%20%20var%20map_2d682098ed5b4bfabcd0af6e26f44a3c%20%3D%20L.map%28%0A%20%20%20%20%20%20%20%20%20%20%20%20%20%20%20%20%22map_2d682098ed5b4bfabcd0af6e26f44a3c%22%2C%0A%20%20%20%20%20%20%20%20%20%20%20%20%20%20%20%20%7B%0A%20%20%20%20%20%20%20%20%20%20%20%20%20%20%20%20%20%20%20%20center%3A%20%5B47.71886462755533%2C%2014.246834520422366%5D%2C%0A%20%20%20%20%20%20%20%20%20%20%20%20%20%20%20%20%20%20%20%20crs%3A%20L.CRS.EPSG3857%2C%0A%20%20%20%20%20%20%20%20%20%20%20%20%20%20%20%20%20%20%20%20zoom%3A%202%2C%0A%20%20%20%20%20%20%20%20%20%20%20%20%20%20%20%20%20%20%20%20zoomControl%3A%20true%2C%0A%20%20%20%20%20%20%20%20%20%20%20%20%20%20%20%20%20%20%20%20preferCanvas%3A%20false%2C%0A%20%20%20%20%20%20%20%20%20%20%20%20%20%20%20%20%7D%0A%20%20%20%20%20%20%20%20%20%20%20%20%29%3B%0A%0A%20%20%20%20%20%20%20%20%20%20%20%20%0A%0A%20%20%20%20%20%20%20%20%0A%20%20%20%20%0A%20%20%20%20%20%20%20%20%20%20%20%20var%20tile_layer_d3ef1a30823c4d38b85327c6cb0b1fb6%20%3D%20L.tileLayer%28%0A%20%20%20%20%20%20%20%20%20%20%20%20%20%20%20%20%22https%3A//%7Bs%7D.tile.openstreetmap.org/%7Bz%7D/%7Bx%7D/%7By%7D.png%22%2C%0A%20%20%20%20%20%20%20%20%20%20%20%20%20%20%20%20%7B%22attribution%22%3A%20%22Data%20by%20%5Cu0026copy%3B%20%5Cu003ca%20href%3D%5C%22http%3A//openstreetmap.org%5C%22%5Cu003eOpenStreetMap%5Cu003c/a%5Cu003e%2C%20under%20%5Cu003ca%20href%3D%5C%22http%3A//www.openstreetmap.org/copyright%5C%22%5Cu003eODbL%5Cu003c/a%5Cu003e.%22%2C%20%22detectRetina%22%3A%20false%2C%20%22maxNativeZoom%22%3A%2018%2C%20%22maxZoom%22%3A%2018%2C%20%22minZoom%22%3A%200%2C%20%22noWrap%22%3A%20false%2C%20%22opacity%22%3A%201%2C%20%22subdomains%22%3A%20%22abc%22%2C%20%22tms%22%3A%20false%7D%0A%20%20%20%20%20%20%20%20%20%20%20%20%29.addTo%28map_2d682098ed5b4bfabcd0af6e26f44a3c%29%3B%0A%20%20%20%20%20%20%20%20%0A%20%20%20%20%0A%20%20%20%20%20%20%20%20%20%20%20%20var%20marker_9675dd2964c0432d97eec55d3d2346f9%20%3D%20L.marker%28%0A%20%20%20%20%20%20%20%20%20%20%20%20%20%20%20%20%5B47.949966430664%2C%2013.41103744506836%5D%2C%0A%20%20%20%20%20%20%20%20%20%20%20%20%20%20%20%20%7B%7D%0A%20%20%20%20%20%20%20%20%20%20%20%20%29.addTo%28map_2d682098ed5b4bfabcd0af6e26f44a3c%29%3B%0A%20%20%20%20%20%20%20%20%0A%20%20%20%20%0A%20%20%20%20%20%20%20%20%20%20%20%20var%20marker_637208e57aac480e90a6c5257066fdad%20%3D%20L.marker%28%0A%20%20%20%20%20%20%20%20%20%20%20%20%20%20%20%20%5B47.8994729%2C%2016.2463342%5D%2C%0A%20%20%20%20%20%20%20%20%20%20%20%20%20%20%20%20%7B%7D%0A%20%20%20%20%20%20%20%20%20%20%20%20%29.addTo%28map_2d682098ed5b4bfabcd0af6e26f44a3c%29%3B%0A%20%20%20%20%20%20%20%20%0A%20%20%20%20%0A%20%20%20%20%20%20%20%20%20%20%20%20var%20marker_c595089dbd4c406f8e782c75a7117c5c%20%3D%20L.marker%28%0A%20%20%20%20%20%20%20%20%20%20%20%20%20%20%20%20%5B47.0708678%2C%2015.4382786%5D%2C%0A%20%20%20%20%20%20%20%20%20%20%20%20%20%20%20%20%7B%7D%0A%20%20%20%20%20%20%20%20%20%20%20%20%29.addTo%28map_2d682098ed5b4bfabcd0af6e26f44a3c%29%3B%0A%20%20%20%20%20%20%20%20%0A%20%20%20%20%0A%20%20%20%20%20%20%20%20%20%20%20%20var%20marker_b6df98093e734dffadf4e0061a2cc08e%20%3D%20L.marker%28%0A%20%20%20%20%20%20%20%20%20%20%20%20%20%20%20%20%5B47.0708678%2C%2015.4382786%5D%2C%0A%20%20%20%20%20%20%20%20%20%20%20%20%20%20%20%20%7B%7D%0A%20%20%20%20%20%20%20%20%20%20%20%20%29.addTo%28map_2d682098ed5b4bfabcd0af6e26f44a3c%29%3B%0A%20%20%20%20%20%20%20%20%0A%20%20%20%20%0A%20%20%20%20%20%20%20%20%20%20%20%20var%20marker_a6a3105aa57349d6b93bc6afdd8db1ee%20%3D%20L.marker%28%0A%20%20%20%20%20%20%20%20%20%20%20%20%20%20%20%20%5B48.1785409%2C%2016.2529858%5D%2C%0A%20%20%20%20%20%20%20%20%20%20%20%20%20%20%20%20%7B%7D%0A%20%20%20%20%20%20%20%20%20%20%20%20%29.addTo%28map_2d682098ed5b4bfabcd0af6e26f44a3c%29%3B%0A%20%20%20%20%20%20%20%20%0A%20%20%20%20%0A%20%20%20%20%20%20%20%20%20%20%20%20var%20marker_0c4eefffb9574209bb7fb4ab27af6692%20%3D%20L.marker%28%0A%20%20%20%20%20%20%20%20%20%20%20%20%20%20%20%20%5B47.4276538%2C%209.6599406%5D%2C%0A%20%20%20%20%20%20%20%20%20%20%20%20%20%20%20%20%7B%7D%0A%20%20%20%20%20%20%20%20%20%20%20%20%29.addTo%28map_2d682098ed5b4bfabcd0af6e26f44a3c%29%3B%0A%20%20%20%20%20%20%20%20%0A%20%20%20%20%0A%20%20%20%20%20%20%20%20%20%20%20%20var%20marker_8c5365c436a54ddfafbe471c39a0d91b%20%3D%20L.marker%28%0A%20%20%20%20%20%20%20%20%20%20%20%20%20%20%20%20%5B48.1785409%2C%2016.2529858%5D%2C%0A%20%20%20%20%20%20%20%20%20%20%20%20%20%20%20%20%7B%7D%0A%20%20%20%20%20%20%20%20%20%20%20%20%29.addTo%28map_2d682098ed5b4bfabcd0af6e26f44a3c%29%3B%0A%20%20%20%20%20%20%20%20%0A%20%20%20%20%0A%20%20%20%20%20%20%20%20%20%20%20%20var%20marker_972e79a45d5a4b3d8e17a6ec19f1ad2f%20%3D%20L.marker%28%0A%20%20%20%20%20%20%20%20%20%20%20%20%20%20%20%20%5B48.3846124%2C%2016.2076303%5D%2C%0A%20%20%20%20%20%20%20%20%20%20%20%20%20%20%20%20%7B%7D%0A%20%20%20%20%20%20%20%20%20%20%20%20%29.addTo%28map_2d682098ed5b4bfabcd0af6e26f44a3c%29%3B%0A%20%20%20%20%20%20%20%20%0A%20%20%20%20%0A%20%20%20%20%20%20%20%20%20%20%20%20var%20marker_1403a198fb7847d3bc7f7cdb5d1a87eb%20%3D%20L.marker%28%0A%20%20%20%20%20%20%20%20%20%20%20%20%20%20%20%20%5B47.6188448%2C%2012.3962943%5D%2C%0A%20%20%20%20%20%20%20%20%20%20%20%20%20%20%20%20%7B%7D%0A%20%20%20%20%20%20%20%20%20%20%20%20%29.addTo%28map_2d682098ed5b4bfabcd0af6e26f44a3c%29%3B%0A%20%20%20%20%20%20%20%20%0A%20%20%20%20%0A%20%20%20%20%20%20%20%20%20%20%20%20var%20marker_06c4078cb4674fc58101a6241aba46e9%20%3D%20L.marker%28%0A%20%20%20%20%20%20%20%20%20%20%20%20%20%20%20%20%5B48.1936436%2C%2016.3962864%5D%2C%0A%20%20%20%20%20%20%20%20%20%20%20%20%20%20%20%20%7B%7D%0A%20%20%20%20%20%20%20%20%20%20%20%20%29.addTo%28map_2d682098ed5b4bfabcd0af6e26f44a3c%29%3B%0A%20%20%20%20%20%20%20%20%0A%20%20%20%20%0A%20%20%20%20%20%20%20%20%20%20%20%20var%20marker_a9c1d25935c74238ab1d64ccf144f80b%20%3D%20L.marker%28%0A%20%20%20%20%20%20%20%20%20%20%20%20%20%20%20%20%5B47.2921289%2C%2012.7162818%5D%2C%0A%20%20%20%20%20%20%20%20%20%20%20%20%20%20%20%20%7B%7D%0A%20%20%20%20%20%20%20%20%20%20%20%20%29.addTo%28map_2d682098ed5b4bfabcd0af6e26f44a3c%29%3B%0A%20%20%20%20%20%20%20%20%0A%20%20%20%20%0A%20%20%20%20%20%20%20%20%20%20%20%20var%20marker_d0d3670c256d421abe8a1a8199cd74be%20%3D%20L.marker%28%0A%20%20%20%20%20%20%20%20%20%20%20%20%20%20%20%20%5B47.3612353%2C%2010.5456804%5D%2C%0A%20%20%20%20%20%20%20%20%20%20%20%20%20%20%20%20%7B%7D%0A%20%20%20%20%20%20%20%20%20%20%20%20%29.addTo%28map_2d682098ed5b4bfabcd0af6e26f44a3c%29%3B%0A%20%20%20%20%20%20%20%20%0A%3C/script%3E onload=\"this.contentDocument.open();this.contentDocument.write(    decodeURIComponent(this.getAttribute('data-html')));this.contentDocument.close();\" allowfullscreen webkitallowfullscreen mozallowfullscreen></iframe></div></div>"
      ],
      "text/plain": [
       "<folium.folium.Map at 0x7ff07c267a90>"
      ]
     },
     "execution_count": 89,
     "metadata": {},
     "output_type": "execute_result"
    }
   ],
   "source": [
    "location = df['Koordinaten A'].mean(), df['Koordinaten B'].mean()\n",
    "\n",
    "\n",
    "m = folium.Map(location=location,zoom_start=2)\n",
    "\n",
    "\n",
    "for i in range(0,len(df)):\n",
    "    folium.Marker([df['Koordinaten A'].iloc[i],df['Koordinaten B'].iloc[i]]).add_to(m)\n",
    "        \n",
    "m"
   ]
  },
  {
   "cell_type": "code",
   "execution_count": 90,
   "id": "9632c3fc",
   "metadata": {},
   "outputs": [],
   "source": [
    "def popup_html(row):\n",
    "    i = row\n",
    "    \n",
    "    Datum = df['Datum'].iloc[i]                             \n",
    "    Ort= df['Ort'].iloc[i]                           \n",
    "    Taeter = df['Taeter'].iloc[i]\n",
    "  \n",
    "    \n",
    "    left_col_colour = \"#FD2C88\"\n",
    "    right_col_colour = \"#FEADD1\"\n",
    "\n",
    "    \n",
    "    html = \"\"\"\n",
    "<!DOCTYPE html>\n",
    "<html>\n",
    "<head>\n",
    "</head>\n",
    "    <table style=\"height: 105px; width: 200px;\">\n",
    "<tbody>\n",
    "<tr>\n",
    "<td style=\"background-color: \"\"\"+ left_col_colour +\"\"\";\"><span style=\"color: #ffffff;\">Datum</span></td>\n",
    "<td style=\"width: 300px;background-color: \"\"\"+ right_col_colour +\"\"\";\">{}</td>\"\"\".format(Datum) + \"\"\"\n",
    "</tr>\n",
    "<tr>\n",
    "<td style=\"background-color: \"\"\"+ left_col_colour +\"\"\";\"><span style=\"color: #ffffff;\">Ort</span></td>\n",
    "<td style=\"width: 300px;background-color: \"\"\"+ right_col_colour +\"\"\";\">{}</td>\"\"\".format(Ort) + \"\"\"\n",
    "</tr>\n",
    "<tr>\n",
    "<td style=\"background-color: \"\"\"+ left_col_colour +\"\"\";\"><span style=\"color: #ffffff;\">Taeter</span></td>\n",
    "<td style=\"width: 300px;background-color: \"\"\"+ right_col_colour +\"\"\";\">{}</td>\"\"\".format(Taeter) + \"\"\"\n",
    "</tr>\n",
    "</tbody>\n",
    "</table>\n",
    "</html>\n",
    "\"\"\"\n",
    "    return html"
   ]
  },
  {
   "cell_type": "code",
   "execution_count": 103,
   "id": "ce8353f2",
   "metadata": {
    "scrolled": true
   },
   "outputs": [
    {
     "data": {
      "text/html": [
       "<div style=\"width:100%;\"><div style=\"position:relative;width:100%;height:0;padding-bottom:60%;\"><span style=\"color:#565656\">Make this Notebook Trusted to load map: File -> Trust Notebook</span><iframe src=\"about:blank\" style=\"position:absolute;width:100%;height:100%;left:0;top:0;border:none !important;\" data-html=%3C%21DOCTYPE%20html%3E%0A%3Chead%3E%20%20%20%20%0A%20%20%20%20%3Cmeta%20http-equiv%3D%22content-type%22%20content%3D%22text/html%3B%20charset%3DUTF-8%22%20/%3E%0A%20%20%20%20%0A%20%20%20%20%20%20%20%20%3Cscript%3E%0A%20%20%20%20%20%20%20%20%20%20%20%20L_NO_TOUCH%20%3D%20false%3B%0A%20%20%20%20%20%20%20%20%20%20%20%20L_DISABLE_3D%20%3D%20false%3B%0A%20%20%20%20%20%20%20%20%3C/script%3E%0A%20%20%20%20%0A%20%20%20%20%3Cstyle%3Ehtml%2C%20body%20%7Bwidth%3A%20100%25%3Bheight%3A%20100%25%3Bmargin%3A%200%3Bpadding%3A%200%3B%7D%3C/style%3E%0A%20%20%20%20%3Cstyle%3E%23map%20%7Bposition%3Aabsolute%3Btop%3A0%3Bbottom%3A0%3Bright%3A0%3Bleft%3A0%3B%7D%3C/style%3E%0A%20%20%20%20%3Cscript%20src%3D%22https%3A//cdn.jsdelivr.net/npm/leaflet%401.6.0/dist/leaflet.js%22%3E%3C/script%3E%0A%20%20%20%20%3Cscript%20src%3D%22https%3A//code.jquery.com/jquery-1.12.4.min.js%22%3E%3C/script%3E%0A%20%20%20%20%3Cscript%20src%3D%22https%3A//maxcdn.bootstrapcdn.com/bootstrap/3.2.0/js/bootstrap.min.js%22%3E%3C/script%3E%0A%20%20%20%20%3Cscript%20src%3D%22https%3A//cdnjs.cloudflare.com/ajax/libs/Leaflet.awesome-markers/2.0.2/leaflet.awesome-markers.js%22%3E%3C/script%3E%0A%20%20%20%20%3Clink%20rel%3D%22stylesheet%22%20href%3D%22https%3A//cdn.jsdelivr.net/npm/leaflet%401.6.0/dist/leaflet.css%22/%3E%0A%20%20%20%20%3Clink%20rel%3D%22stylesheet%22%20href%3D%22https%3A//maxcdn.bootstrapcdn.com/bootstrap/3.2.0/css/bootstrap.min.css%22/%3E%0A%20%20%20%20%3Clink%20rel%3D%22stylesheet%22%20href%3D%22https%3A//maxcdn.bootstrapcdn.com/bootstrap/3.2.0/css/bootstrap-theme.min.css%22/%3E%0A%20%20%20%20%3Clink%20rel%3D%22stylesheet%22%20href%3D%22https%3A//maxcdn.bootstrapcdn.com/font-awesome/4.6.3/css/font-awesome.min.css%22/%3E%0A%20%20%20%20%3Clink%20rel%3D%22stylesheet%22%20href%3D%22https%3A//cdnjs.cloudflare.com/ajax/libs/Leaflet.awesome-markers/2.0.2/leaflet.awesome-markers.css%22/%3E%0A%20%20%20%20%3Clink%20rel%3D%22stylesheet%22%20href%3D%22https%3A//cdn.jsdelivr.net/gh/python-visualization/folium/folium/templates/leaflet.awesome.rotate.min.css%22/%3E%0A%20%20%20%20%0A%20%20%20%20%20%20%20%20%20%20%20%20%3Cmeta%20name%3D%22viewport%22%20content%3D%22width%3Ddevice-width%2C%0A%20%20%20%20%20%20%20%20%20%20%20%20%20%20%20%20initial-scale%3D1.0%2C%20maximum-scale%3D1.0%2C%20user-scalable%3Dno%22%20/%3E%0A%20%20%20%20%20%20%20%20%20%20%20%20%3Cstyle%3E%0A%20%20%20%20%20%20%20%20%20%20%20%20%20%20%20%20%23map_55899373c30a4c4ea64e83a1203e62fe%20%7B%0A%20%20%20%20%20%20%20%20%20%20%20%20%20%20%20%20%20%20%20%20position%3A%20relative%3B%0A%20%20%20%20%20%20%20%20%20%20%20%20%20%20%20%20%20%20%20%20width%3A%20100.0%25%3B%0A%20%20%20%20%20%20%20%20%20%20%20%20%20%20%20%20%20%20%20%20height%3A%20100.0%25%3B%0A%20%20%20%20%20%20%20%20%20%20%20%20%20%20%20%20%20%20%20%20left%3A%200.0%25%3B%0A%20%20%20%20%20%20%20%20%20%20%20%20%20%20%20%20%20%20%20%20top%3A%200.0%25%3B%0A%20%20%20%20%20%20%20%20%20%20%20%20%20%20%20%20%7D%0A%20%20%20%20%20%20%20%20%20%20%20%20%3C/style%3E%0A%20%20%20%20%20%20%20%20%0A%3C/head%3E%0A%3Cbody%3E%20%20%20%20%0A%20%20%20%20%0A%20%20%20%20%20%20%20%20%20%20%20%20%3Cdiv%20class%3D%22folium-map%22%20id%3D%22map_55899373c30a4c4ea64e83a1203e62fe%22%20%3E%3C/div%3E%0A%20%20%20%20%20%20%20%20%0A%3C/body%3E%0A%3Cscript%3E%20%20%20%20%0A%20%20%20%20%0A%20%20%20%20%20%20%20%20%20%20%20%20var%20map_55899373c30a4c4ea64e83a1203e62fe%20%3D%20L.map%28%0A%20%20%20%20%20%20%20%20%20%20%20%20%20%20%20%20%22map_55899373c30a4c4ea64e83a1203e62fe%22%2C%0A%20%20%20%20%20%20%20%20%20%20%20%20%20%20%20%20%7B%0A%20%20%20%20%20%20%20%20%20%20%20%20%20%20%20%20%20%20%20%20center%3A%20%5B47.71886462755533%2C%2014.246834520422366%5D%2C%0A%20%20%20%20%20%20%20%20%20%20%20%20%20%20%20%20%20%20%20%20crs%3A%20L.CRS.EPSG3857%2C%0A%20%20%20%20%20%20%20%20%20%20%20%20%20%20%20%20%20%20%20%20zoom%3A%206%2C%0A%20%20%20%20%20%20%20%20%20%20%20%20%20%20%20%20%20%20%20%20zoomControl%3A%20true%2C%0A%20%20%20%20%20%20%20%20%20%20%20%20%20%20%20%20%20%20%20%20preferCanvas%3A%20false%2C%0A%20%20%20%20%20%20%20%20%20%20%20%20%20%20%20%20%7D%0A%20%20%20%20%20%20%20%20%20%20%20%20%29%3B%0A%0A%20%20%20%20%20%20%20%20%20%20%20%20%0A%0A%20%20%20%20%20%20%20%20%0A%20%20%20%20%0A%20%20%20%20%20%20%20%20%20%20%20%20var%20tile_layer_bd14cafbe36949dfaba826747d52f5fa%20%3D%20L.tileLayer%28%0A%20%20%20%20%20%20%20%20%20%20%20%20%20%20%20%20%22https%3A//%7Bs%7D.tile.openstreetmap.org/%7Bz%7D/%7Bx%7D/%7By%7D.png%22%2C%0A%20%20%20%20%20%20%20%20%20%20%20%20%20%20%20%20%7B%22attribution%22%3A%20%22Data%20by%20%5Cu0026copy%3B%20%5Cu003ca%20href%3D%5C%22http%3A//openstreetmap.org%5C%22%5Cu003eOpenStreetMap%5Cu003c/a%5Cu003e%2C%20under%20%5Cu003ca%20href%3D%5C%22http%3A//www.openstreetmap.org/copyright%5C%22%5Cu003eODbL%5Cu003c/a%5Cu003e.%22%2C%20%22detectRetina%22%3A%20false%2C%20%22maxNativeZoom%22%3A%2018%2C%20%22maxZoom%22%3A%2018%2C%20%22minZoom%22%3A%205%2C%20%22noWrap%22%3A%20false%2C%20%22opacity%22%3A%201%2C%20%22subdomains%22%3A%20%22abc%22%2C%20%22tms%22%3A%20false%7D%0A%20%20%20%20%20%20%20%20%20%20%20%20%29.addTo%28map_55899373c30a4c4ea64e83a1203e62fe%29%3B%0A%20%20%20%20%20%20%20%20%0A%20%20%20%20%0A%20%20%20%20%20%20%20%20%20%20%20%20var%20marker_95a9e65c8c434dbf952e62ef27d5e3f8%20%3D%20L.marker%28%0A%20%20%20%20%20%20%20%20%20%20%20%20%20%20%20%20%5B47.949966430664%2C%2013.41103744506836%5D%2C%0A%20%20%20%20%20%20%20%20%20%20%20%20%20%20%20%20%7B%7D%0A%20%20%20%20%20%20%20%20%20%20%20%20%29.addTo%28map_55899373c30a4c4ea64e83a1203e62fe%29%3B%0A%20%20%20%20%20%20%20%20%0A%20%20%20%20%0A%20%20%20%20%20%20%20%20%20%20%20%20var%20icon_a7d4efabceac4010965afd7877d08655%20%3D%20L.AwesomeMarkers.icon%28%0A%20%20%20%20%20%20%20%20%20%20%20%20%20%20%20%20%7B%22extraClasses%22%3A%20%22fa-rotate-0%22%2C%20%22icon%22%3A%20%22cloud%22%2C%20%22iconColor%22%3A%20%22white%22%2C%20%22markerColor%22%3A%20%22pink%22%2C%20%22prefix%22%3A%20%22glyphicon%22%7D%0A%20%20%20%20%20%20%20%20%20%20%20%20%29%3B%0A%20%20%20%20%20%20%20%20%20%20%20%20marker_95a9e65c8c434dbf952e62ef27d5e3f8.setIcon%28icon_a7d4efabceac4010965afd7877d08655%29%3B%0A%20%20%20%20%20%20%20%20%0A%20%20%20%20%0A%20%20%20%20%20%20%20%20var%20popup_daa8c07b1b024e47960dc45fe96efa58%20%3D%20L.popup%28%7B%22maxWidth%22%3A%20%22100%25%22%7D%29%3B%0A%0A%20%20%20%20%20%20%20%20%0A%20%20%20%20%20%20%20%20%20%20%20%20var%20i_frame_e5a5b2bae33e444c95e977ebdae01995%20%3D%20%24%28%60%3Ciframe%20src%3D%22data%3Atext/html%3Bcharset%3Dutf-8%3Bbase64%2CCiAgICAKPCFET0NUWVBFIGh0bWw%2BCjxodG1sPgo8aGVhZD4KPC9oZWFkPgogICAgPHRhYmxlIHN0eWxlPSJoZWlnaHQ6IDEwNXB4OyB3aWR0aDogMjAwcHg7Ij4KPHRib2R5Pgo8dHI%2BCjx0ZCBzdHlsZT0iYmFja2dyb3VuZC1jb2xvcjogI0ZEMkM4ODsiPjxzcGFuIHN0eWxlPSJjb2xvcjogI2ZmZmZmZjsiPkRhdHVtPC9zcGFuPjwvdGQ%2BCjx0ZCBzdHlsZT0id2lkdGg6IDMwMHB4O2JhY2tncm91bmQtY29sb3I6ICNGRUFERDE7Ij4wOC4wMS4yMjwvdGQ%2BCjwvdHI%2BCjx0cj4KPHRkIHN0eWxlPSJiYWNrZ3JvdW5kLWNvbG9yOiAjRkQyQzg4OyI%2BPHNwYW4gc3R5bGU9ImNvbG9yOiAjZmZmZmZmOyI%2BT3J0PC9zcGFuPjwvdGQ%2BCjx0ZCBzdHlsZT0id2lkdGg6IDMwMHB4O2JhY2tncm91bmQtY29sb3I6ICNGRUFERDE7Ij5XZWlzc2Vua2lyY2hlbiBpbSBBdHRlcmdhdSwgQmV6aXJrIFZvZWNrbGFicnVjayAvIE9PRTwvdGQ%2BCjwvdHI%2BCjx0cj4KPHRkIHN0eWxlPSJiYWNrZ3JvdW5kLWNvbG9yOiAjRkQyQzg4OyI%2BPHNwYW4gc3R5bGU9ImNvbG9yOiAjZmZmZmZmOyI%2BVGFldGVyPC9zcGFuPjwvdGQ%2BCjx0ZCBzdHlsZT0id2lkdGg6IDMwMHB4O2JhY2tncm91bmQtY29sb3I6ICNGRUFERDE7Ij5FaGVtYW5uPC90ZD4KPC90cj4KPC90Ym9keT4KPC90YWJsZT4KPC9odG1sPg%3D%3D%22%20width%3D%22240%22%20style%3D%22border%3Anone%20%21important%3B%22%20height%3D%22150%22%3E%3C/iframe%3E%60%29%5B0%5D%3B%0A%20%20%20%20%20%20%20%20%20%20%20%20popup_daa8c07b1b024e47960dc45fe96efa58.setContent%28i_frame_e5a5b2bae33e444c95e977ebdae01995%29%3B%0A%20%20%20%20%20%20%20%20%0A%0A%20%20%20%20%20%20%20%20marker_95a9e65c8c434dbf952e62ef27d5e3f8.bindPopup%28popup_daa8c07b1b024e47960dc45fe96efa58%29%0A%20%20%20%20%20%20%20%20%3B%0A%0A%20%20%20%20%20%20%20%20%0A%20%20%20%20%0A%20%20%20%20%0A%20%20%20%20%20%20%20%20%20%20%20%20var%20marker_9c1998d9f03143bf918f9029dad8d9b0%20%3D%20L.marker%28%0A%20%20%20%20%20%20%20%20%20%20%20%20%20%20%20%20%5B47.8994729%2C%2016.2463342%5D%2C%0A%20%20%20%20%20%20%20%20%20%20%20%20%20%20%20%20%7B%7D%0A%20%20%20%20%20%20%20%20%20%20%20%20%29.addTo%28map_55899373c30a4c4ea64e83a1203e62fe%29%3B%0A%20%20%20%20%20%20%20%20%0A%20%20%20%20%0A%20%20%20%20%20%20%20%20%20%20%20%20var%20icon_f5f45eb81fe94d9d968440be1569715d%20%3D%20L.AwesomeMarkers.icon%28%0A%20%20%20%20%20%20%20%20%20%20%20%20%20%20%20%20%7B%22extraClasses%22%3A%20%22fa-rotate-0%22%2C%20%22icon%22%3A%20%22cloud%22%2C%20%22iconColor%22%3A%20%22white%22%2C%20%22markerColor%22%3A%20%22pink%22%2C%20%22prefix%22%3A%20%22glyphicon%22%7D%0A%20%20%20%20%20%20%20%20%20%20%20%20%29%3B%0A%20%20%20%20%20%20%20%20%20%20%20%20marker_9c1998d9f03143bf918f9029dad8d9b0.setIcon%28icon_f5f45eb81fe94d9d968440be1569715d%29%3B%0A%20%20%20%20%20%20%20%20%0A%20%20%20%20%0A%20%20%20%20%20%20%20%20var%20popup_36fed1a1cf9a4e48ba6df57ffdcbec69%20%3D%20L.popup%28%7B%22maxWidth%22%3A%20%22100%25%22%7D%29%3B%0A%0A%20%20%20%20%20%20%20%20%0A%20%20%20%20%20%20%20%20%20%20%20%20var%20i_frame_e053699bf42f4a329b1caedc60ad7509%20%3D%20%24%28%60%3Ciframe%20src%3D%22data%3Atext/html%3Bcharset%3Dutf-8%3Bbase64%2CCiAgICAKPCFET0NUWVBFIGh0bWw%2BCjxodG1sPgo8aGVhZD4KPC9oZWFkPgogICAgPHRhYmxlIHN0eWxlPSJoZWlnaHQ6IDEwNXB4OyB3aWR0aDogMjAwcHg7Ij4KPHRib2R5Pgo8dHI%2BCjx0ZCBzdHlsZT0iYmFja2dyb3VuZC1jb2xvcjogI0ZEMkM4ODsiPjxzcGFuIHN0eWxlPSJjb2xvcjogI2ZmZmZmZjsiPkRhdHVtPC9zcGFuPjwvdGQ%2BCjx0ZCBzdHlsZT0id2lkdGg6IDMwMHB4O2JhY2tncm91bmQtY29sb3I6ICNGRUFERDE7Ij4xMi4wMS4yMjwvdGQ%2BCjwvdHI%2BCjx0cj4KPHRkIHN0eWxlPSJiYWNrZ3JvdW5kLWNvbG9yOiAjRkQyQzg4OyI%2BPHNwYW4gc3R5bGU9ImNvbG9yOiAjZmZmZmZmOyI%2BT3J0PC9zcGFuPjwvdGQ%2BCjx0ZCBzdHlsZT0id2lkdGg6IDMwMHB4O2JhY2tncm91bmQtY29sb3I6ICNGRUFERDE7Ij5Tb2xsZW5hdSwgQmV6aXJrIFdpZW5lciBOZXVzdGFkdC1MYW5kIC8gTk9FPC90ZD4KPC90cj4KPHRyPgo8dGQgc3R5bGU9ImJhY2tncm91bmQtY29sb3I6ICNGRDJDODg7Ij48c3BhbiBzdHlsZT0iY29sb3I6ICNmZmZmZmY7Ij5UYWV0ZXI8L3NwYW4%2BPC90ZD4KPHRkIHN0eWxlPSJ3aWR0aDogMzAwcHg7YmFja2dyb3VuZC1jb2xvcjogI0ZFQUREMTsiPlZhdGVyPC90ZD4KPC90cj4KPC90Ym9keT4KPC90YWJsZT4KPC9odG1sPg%3D%3D%22%20width%3D%22240%22%20style%3D%22border%3Anone%20%21important%3B%22%20height%3D%22150%22%3E%3C/iframe%3E%60%29%5B0%5D%3B%0A%20%20%20%20%20%20%20%20%20%20%20%20popup_36fed1a1cf9a4e48ba6df57ffdcbec69.setContent%28i_frame_e053699bf42f4a329b1caedc60ad7509%29%3B%0A%20%20%20%20%20%20%20%20%0A%0A%20%20%20%20%20%20%20%20marker_9c1998d9f03143bf918f9029dad8d9b0.bindPopup%28popup_36fed1a1cf9a4e48ba6df57ffdcbec69%29%0A%20%20%20%20%20%20%20%20%3B%0A%0A%20%20%20%20%20%20%20%20%0A%20%20%20%20%0A%20%20%20%20%0A%20%20%20%20%20%20%20%20%20%20%20%20var%20marker_5360251840a746c3b2ed0e7bd437c788%20%3D%20L.marker%28%0A%20%20%20%20%20%20%20%20%20%20%20%20%20%20%20%20%5B47.0708678%2C%2015.4382786%5D%2C%0A%20%20%20%20%20%20%20%20%20%20%20%20%20%20%20%20%7B%7D%0A%20%20%20%20%20%20%20%20%20%20%20%20%29.addTo%28map_55899373c30a4c4ea64e83a1203e62fe%29%3B%0A%20%20%20%20%20%20%20%20%0A%20%20%20%20%0A%20%20%20%20%20%20%20%20%20%20%20%20var%20icon_9e101e47aef84521b6075fc28ba4b66c%20%3D%20L.AwesomeMarkers.icon%28%0A%20%20%20%20%20%20%20%20%20%20%20%20%20%20%20%20%7B%22extraClasses%22%3A%20%22fa-rotate-0%22%2C%20%22icon%22%3A%20%22cloud%22%2C%20%22iconColor%22%3A%20%22white%22%2C%20%22markerColor%22%3A%20%22pink%22%2C%20%22prefix%22%3A%20%22glyphicon%22%7D%0A%20%20%20%20%20%20%20%20%20%20%20%20%29%3B%0A%20%20%20%20%20%20%20%20%20%20%20%20marker_5360251840a746c3b2ed0e7bd437c788.setIcon%28icon_9e101e47aef84521b6075fc28ba4b66c%29%3B%0A%20%20%20%20%20%20%20%20%0A%20%20%20%20%0A%20%20%20%20%20%20%20%20var%20popup_faffba14c3204f4895d6960d52475717%20%3D%20L.popup%28%7B%22maxWidth%22%3A%20%22100%25%22%7D%29%3B%0A%0A%20%20%20%20%20%20%20%20%0A%20%20%20%20%20%20%20%20%20%20%20%20var%20i_frame_62efb4d6351441208efa489848d43009%20%3D%20%24%28%60%3Ciframe%20src%3D%22data%3Atext/html%3Bcharset%3Dutf-8%3Bbase64%2CCiAgICAKPCFET0NUWVBFIGh0bWw%2BCjxodG1sPgo8aGVhZD4KPC9oZWFkPgogICAgPHRhYmxlIHN0eWxlPSJoZWlnaHQ6IDEwNXB4OyB3aWR0aDogMjAwcHg7Ij4KPHRib2R5Pgo8dHI%2BCjx0ZCBzdHlsZT0iYmFja2dyb3VuZC1jb2xvcjogI0ZEMkM4ODsiPjxzcGFuIHN0eWxlPSJjb2xvcjogI2ZmZmZmZjsiPkRhdHVtPC9zcGFuPjwvdGQ%2BCjx0ZCBzdHlsZT0id2lkdGg6IDMwMHB4O2JhY2tncm91bmQtY29sb3I6ICNGRUFERDE7Ij4wMS4wMi4yMjwvdGQ%2BCjwvdHI%2BCjx0cj4KPHRkIHN0eWxlPSJiYWNrZ3JvdW5kLWNvbG9yOiAjRkQyQzg4OyI%2BPHNwYW4gc3R5bGU9ImNvbG9yOiAjZmZmZmZmOyI%2BT3J0PC9zcGFuPjwvdGQ%2BCjx0ZCBzdHlsZT0id2lkdGg6IDMwMHB4O2JhY2tncm91bmQtY29sb3I6ICNGRUFERDE7Ij5HcmF6IC8gU3RlaWVybWFyazwvdGQ%2BCjwvdHI%2BCjx0cj4KPHRkIHN0eWxlPSJiYWNrZ3JvdW5kLWNvbG9yOiAjRkQyQzg4OyI%2BPHNwYW4gc3R5bGU9ImNvbG9yOiAjZmZmZmZmOyI%2BVGFldGVyPC9zcGFuPjwvdGQ%2BCjx0ZCBzdHlsZT0id2lkdGg6IDMwMHB4O2JhY2tncm91bmQtY29sb3I6ICNGRUFERDE7Ij5Tb2huPC90ZD4KPC90cj4KPC90Ym9keT4KPC90YWJsZT4KPC9odG1sPg%3D%3D%22%20width%3D%22240%22%20style%3D%22border%3Anone%20%21important%3B%22%20height%3D%22150%22%3E%3C/iframe%3E%60%29%5B0%5D%3B%0A%20%20%20%20%20%20%20%20%20%20%20%20popup_faffba14c3204f4895d6960d52475717.setContent%28i_frame_62efb4d6351441208efa489848d43009%29%3B%0A%20%20%20%20%20%20%20%20%0A%0A%20%20%20%20%20%20%20%20marker_5360251840a746c3b2ed0e7bd437c788.bindPopup%28popup_faffba14c3204f4895d6960d52475717%29%0A%20%20%20%20%20%20%20%20%3B%0A%0A%20%20%20%20%20%20%20%20%0A%20%20%20%20%0A%20%20%20%20%0A%20%20%20%20%20%20%20%20%20%20%20%20var%20marker_98f248fbccae405f871d47591d1c73c2%20%3D%20L.marker%28%0A%20%20%20%20%20%20%20%20%20%20%20%20%20%20%20%20%5B47.0708678%2C%2015.4382786%5D%2C%0A%20%20%20%20%20%20%20%20%20%20%20%20%20%20%20%20%7B%7D%0A%20%20%20%20%20%20%20%20%20%20%20%20%29.addTo%28map_55899373c30a4c4ea64e83a1203e62fe%29%3B%0A%20%20%20%20%20%20%20%20%0A%20%20%20%20%0A%20%20%20%20%20%20%20%20%20%20%20%20var%20icon_9aade68bcb3f4d109fdac83f11daae6a%20%3D%20L.AwesomeMarkers.icon%28%0A%20%20%20%20%20%20%20%20%20%20%20%20%20%20%20%20%7B%22extraClasses%22%3A%20%22fa-rotate-0%22%2C%20%22icon%22%3A%20%22cloud%22%2C%20%22iconColor%22%3A%20%22white%22%2C%20%22markerColor%22%3A%20%22pink%22%2C%20%22prefix%22%3A%20%22glyphicon%22%7D%0A%20%20%20%20%20%20%20%20%20%20%20%20%29%3B%0A%20%20%20%20%20%20%20%20%20%20%20%20marker_98f248fbccae405f871d47591d1c73c2.setIcon%28icon_9aade68bcb3f4d109fdac83f11daae6a%29%3B%0A%20%20%20%20%20%20%20%20%0A%20%20%20%20%0A%20%20%20%20%20%20%20%20var%20popup_e368651ef46443e4928181a54bd2f0f7%20%3D%20L.popup%28%7B%22maxWidth%22%3A%20%22100%25%22%7D%29%3B%0A%0A%20%20%20%20%20%20%20%20%0A%20%20%20%20%20%20%20%20%20%20%20%20var%20i_frame_f73f7294e3a14d87854313e145a229ec%20%3D%20%24%28%60%3Ciframe%20src%3D%22data%3Atext/html%3Bcharset%3Dutf-8%3Bbase64%2CCiAgICAKPCFET0NUWVBFIGh0bWw%2BCjxodG1sPgo8aGVhZD4KPC9oZWFkPgogICAgPHRhYmxlIHN0eWxlPSJoZWlnaHQ6IDEwNXB4OyB3aWR0aDogMjAwcHg7Ij4KPHRib2R5Pgo8dHI%2BCjx0ZCBzdHlsZT0iYmFja2dyb3VuZC1jb2xvcjogI0ZEMkM4ODsiPjxzcGFuIHN0eWxlPSJjb2xvcjogI2ZmZmZmZjsiPkRhdHVtPC9zcGFuPjwvdGQ%2BCjx0ZCBzdHlsZT0id2lkdGg6IDMwMHB4O2JhY2tncm91bmQtY29sb3I6ICNGRUFERDE7Ij4wOC4wMi4yMjwvdGQ%2BCjwvdHI%2BCjx0cj4KPHRkIHN0eWxlPSJiYWNrZ3JvdW5kLWNvbG9yOiAjRkQyQzg4OyI%2BPHNwYW4gc3R5bGU9ImNvbG9yOiAjZmZmZmZmOyI%2BT3J0PC9zcGFuPjwvdGQ%2BCjx0ZCBzdHlsZT0id2lkdGg6IDMwMHB4O2JhY2tncm91bmQtY29sb3I6ICNGRUFERDE7Ij5HcmF6IC8gU3RlaWVybWFyazwvdGQ%2BCjwvdHI%2BCjx0cj4KPHRkIHN0eWxlPSJiYWNrZ3JvdW5kLWNvbG9yOiAjRkQyQzg4OyI%2BPHNwYW4gc3R5bGU9ImNvbG9yOiAjZmZmZmZmOyI%2BVGFldGVyPC9zcGFuPjwvdGQ%2BCjx0ZCBzdHlsZT0id2lkdGg6IDMwMHB4O2JhY2tncm91bmQtY29sb3I6ICNGRUFERDE7Ij5CZWthbm50ZXI8L3RkPgo8L3RyPgo8L3Rib2R5Pgo8L3RhYmxlPgo8L2h0bWw%2B%22%20width%3D%22240%22%20style%3D%22border%3Anone%20%21important%3B%22%20height%3D%22150%22%3E%3C/iframe%3E%60%29%5B0%5D%3B%0A%20%20%20%20%20%20%20%20%20%20%20%20popup_e368651ef46443e4928181a54bd2f0f7.setContent%28i_frame_f73f7294e3a14d87854313e145a229ec%29%3B%0A%20%20%20%20%20%20%20%20%0A%0A%20%20%20%20%20%20%20%20marker_98f248fbccae405f871d47591d1c73c2.bindPopup%28popup_e368651ef46443e4928181a54bd2f0f7%29%0A%20%20%20%20%20%20%20%20%3B%0A%0A%20%20%20%20%20%20%20%20%0A%20%20%20%20%0A%20%20%20%20%0A%20%20%20%20%20%20%20%20%20%20%20%20var%20marker_edef1ee00cea4f86bc492d8d635799ea%20%3D%20L.marker%28%0A%20%20%20%20%20%20%20%20%20%20%20%20%20%20%20%20%5B48.1785409%2C%2016.2529858%5D%2C%0A%20%20%20%20%20%20%20%20%20%20%20%20%20%20%20%20%7B%7D%0A%20%20%20%20%20%20%20%20%20%20%20%20%29.addTo%28map_55899373c30a4c4ea64e83a1203e62fe%29%3B%0A%20%20%20%20%20%20%20%20%0A%20%20%20%20%0A%20%20%20%20%20%20%20%20%20%20%20%20var%20icon_70b61034412f40b0938e426a626d3421%20%3D%20L.AwesomeMarkers.icon%28%0A%20%20%20%20%20%20%20%20%20%20%20%20%20%20%20%20%7B%22extraClasses%22%3A%20%22fa-rotate-0%22%2C%20%22icon%22%3A%20%22cloud%22%2C%20%22iconColor%22%3A%20%22white%22%2C%20%22markerColor%22%3A%20%22pink%22%2C%20%22prefix%22%3A%20%22glyphicon%22%7D%0A%20%20%20%20%20%20%20%20%20%20%20%20%29%3B%0A%20%20%20%20%20%20%20%20%20%20%20%20marker_edef1ee00cea4f86bc492d8d635799ea.setIcon%28icon_70b61034412f40b0938e426a626d3421%29%3B%0A%20%20%20%20%20%20%20%20%0A%20%20%20%20%0A%20%20%20%20%20%20%20%20var%20popup_ce774239925a422ba59a23baa4a76162%20%3D%20L.popup%28%7B%22maxWidth%22%3A%20%22100%25%22%7D%29%3B%0A%0A%20%20%20%20%20%20%20%20%0A%20%20%20%20%20%20%20%20%20%20%20%20var%20i_frame_604c05e90b904fc0bc322f723faee5ac%20%3D%20%24%28%60%3Ciframe%20src%3D%22data%3Atext/html%3Bcharset%3Dutf-8%3Bbase64%2CCiAgICAKPCFET0NUWVBFIGh0bWw%2BCjxodG1sPgo8aGVhZD4KPC9oZWFkPgogICAgPHRhYmxlIHN0eWxlPSJoZWlnaHQ6IDEwNXB4OyB3aWR0aDogMjAwcHg7Ij4KPHRib2R5Pgo8dHI%2BCjx0ZCBzdHlsZT0iYmFja2dyb3VuZC1jb2xvcjogI0ZEMkM4ODsiPjxzcGFuIHN0eWxlPSJjb2xvcjogI2ZmZmZmZjsiPkRhdHVtPC9zcGFuPjwvdGQ%2BCjx0ZCBzdHlsZT0id2lkdGg6IDMwMHB4O2JhY2tncm91bmQtY29sb3I6ICNGRUFERDE7Ij4yNC4wMi4yMjwvdGQ%2BCjwvdHI%2BCjx0cj4KPHRkIHN0eWxlPSJiYWNrZ3JvdW5kLWNvbG9yOiAjRkQyQzg4OyI%2BPHNwYW4gc3R5bGU9ImNvbG9yOiAjZmZmZmZmOyI%2BT3J0PC9zcGFuPjwvdGQ%2BCjx0ZCBzdHlsZT0id2lkdGg6IDMwMHB4O2JhY2tncm91bmQtY29sb3I6ICNGRUFERDE7Ij5XaWVuIEhpZXR6aW5nPC90ZD4KPC90cj4KPHRyPgo8dGQgc3R5bGU9ImJhY2tncm91bmQtY29sb3I6ICNGRDJDODg7Ij48c3BhbiBzdHlsZT0iY29sb3I6ICNmZmZmZmY7Ij5UYWV0ZXI8L3NwYW4%2BPC90ZD4KPHRkIHN0eWxlPSJ3aWR0aDogMzAwcHg7YmFja2dyb3VuZC1jb2xvcjogI0ZFQUREMTsiPkVoZW1hbm48L3RkPgo8L3RyPgo8L3Rib2R5Pgo8L3RhYmxlPgo8L2h0bWw%2B%22%20width%3D%22240%22%20style%3D%22border%3Anone%20%21important%3B%22%20height%3D%22150%22%3E%3C/iframe%3E%60%29%5B0%5D%3B%0A%20%20%20%20%20%20%20%20%20%20%20%20popup_ce774239925a422ba59a23baa4a76162.setContent%28i_frame_604c05e90b904fc0bc322f723faee5ac%29%3B%0A%20%20%20%20%20%20%20%20%0A%0A%20%20%20%20%20%20%20%20marker_edef1ee00cea4f86bc492d8d635799ea.bindPopup%28popup_ce774239925a422ba59a23baa4a76162%29%0A%20%20%20%20%20%20%20%20%3B%0A%0A%20%20%20%20%20%20%20%20%0A%20%20%20%20%0A%20%20%20%20%0A%20%20%20%20%20%20%20%20%20%20%20%20var%20marker_2e68b5835d3946deb96dc90fdce0eabb%20%3D%20L.marker%28%0A%20%20%20%20%20%20%20%20%20%20%20%20%20%20%20%20%5B47.4276538%2C%209.6599406%5D%2C%0A%20%20%20%20%20%20%20%20%20%20%20%20%20%20%20%20%7B%7D%0A%20%20%20%20%20%20%20%20%20%20%20%20%29.addTo%28map_55899373c30a4c4ea64e83a1203e62fe%29%3B%0A%20%20%20%20%20%20%20%20%0A%20%20%20%20%0A%20%20%20%20%20%20%20%20%20%20%20%20var%20icon_8dd11104d60d4b7fb698df47acb3daef%20%3D%20L.AwesomeMarkers.icon%28%0A%20%20%20%20%20%20%20%20%20%20%20%20%20%20%20%20%7B%22extraClasses%22%3A%20%22fa-rotate-0%22%2C%20%22icon%22%3A%20%22cloud%22%2C%20%22iconColor%22%3A%20%22white%22%2C%20%22markerColor%22%3A%20%22pink%22%2C%20%22prefix%22%3A%20%22glyphicon%22%7D%0A%20%20%20%20%20%20%20%20%20%20%20%20%29%3B%0A%20%20%20%20%20%20%20%20%20%20%20%20marker_2e68b5835d3946deb96dc90fdce0eabb.setIcon%28icon_8dd11104d60d4b7fb698df47acb3daef%29%3B%0A%20%20%20%20%20%20%20%20%0A%20%20%20%20%0A%20%20%20%20%20%20%20%20var%20popup_e7785bac09f04debbd6370fa77d7f10c%20%3D%20L.popup%28%7B%22maxWidth%22%3A%20%22100%25%22%7D%29%3B%0A%0A%20%20%20%20%20%20%20%20%0A%20%20%20%20%20%20%20%20%20%20%20%20var%20i_frame_1342cce1e7924abaa4a8807be66cc4c2%20%3D%20%24%28%60%3Ciframe%20src%3D%22data%3Atext/html%3Bcharset%3Dutf-8%3Bbase64%2CCiAgICAKPCFET0NUWVBFIGh0bWw%2BCjxodG1sPgo8aGVhZD4KPC9oZWFkPgogICAgPHRhYmxlIHN0eWxlPSJoZWlnaHQ6IDEwNXB4OyB3aWR0aDogMjAwcHg7Ij4KPHRib2R5Pgo8dHI%2BCjx0ZCBzdHlsZT0iYmFja2dyb3VuZC1jb2xvcjogI0ZEMkM4ODsiPjxzcGFuIHN0eWxlPSJjb2xvcjogI2ZmZmZmZjsiPkRhdHVtPC9zcGFuPjwvdGQ%2BCjx0ZCBzdHlsZT0id2lkdGg6IDMwMHB4O2JhY2tncm91bmQtY29sb3I6ICNGRUFERDE7Ij4wNC4wMy4yMjwvdGQ%2BCjwvdHI%2BCjx0cj4KPHRkIHN0eWxlPSJiYWNrZ3JvdW5kLWNvbG9yOiAjRkQyQzg4OyI%2BPHNwYW4gc3R5bGU9ImNvbG9yOiAjZmZmZmZmOyI%2BT3J0PC9zcGFuPjwvdGQ%2BCjx0ZCBzdHlsZT0id2lkdGg6IDMwMHB4O2JhY2tncm91bmQtY29sb3I6ICNGRUFERDE7Ij5MdXN0ZW5hdSAvIFZvcmFybGJlcmc8L3RkPgo8L3RyPgo8dHI%2BCjx0ZCBzdHlsZT0iYmFja2dyb3VuZC1jb2xvcjogI0ZEMkM4ODsiPjxzcGFuIHN0eWxlPSJjb2xvcjogI2ZmZmZmZjsiPlRhZXRlcjwvc3Bhbj48L3RkPgo8dGQgc3R5bGU9IndpZHRoOiAzMDBweDtiYWNrZ3JvdW5kLWNvbG9yOiAjRkVBREQxOyI%2BQmVrYW5udGU8L3RkPgo8L3RyPgo8L3Rib2R5Pgo8L3RhYmxlPgo8L2h0bWw%2B%22%20width%3D%22240%22%20style%3D%22border%3Anone%20%21important%3B%22%20height%3D%22150%22%3E%3C/iframe%3E%60%29%5B0%5D%3B%0A%20%20%20%20%20%20%20%20%20%20%20%20popup_e7785bac09f04debbd6370fa77d7f10c.setContent%28i_frame_1342cce1e7924abaa4a8807be66cc4c2%29%3B%0A%20%20%20%20%20%20%20%20%0A%0A%20%20%20%20%20%20%20%20marker_2e68b5835d3946deb96dc90fdce0eabb.bindPopup%28popup_e7785bac09f04debbd6370fa77d7f10c%29%0A%20%20%20%20%20%20%20%20%3B%0A%0A%20%20%20%20%20%20%20%20%0A%20%20%20%20%0A%20%20%20%20%0A%20%20%20%20%20%20%20%20%20%20%20%20var%20marker_8d982ffc6b9d4568ae928613749372d3%20%3D%20L.marker%28%0A%20%20%20%20%20%20%20%20%20%20%20%20%20%20%20%20%5B48.1785409%2C%2016.2529858%5D%2C%0A%20%20%20%20%20%20%20%20%20%20%20%20%20%20%20%20%7B%7D%0A%20%20%20%20%20%20%20%20%20%20%20%20%29.addTo%28map_55899373c30a4c4ea64e83a1203e62fe%29%3B%0A%20%20%20%20%20%20%20%20%0A%20%20%20%20%0A%20%20%20%20%20%20%20%20%20%20%20%20var%20icon_d8d94e99dd11484cae29ef66d0ec3873%20%3D%20L.AwesomeMarkers.icon%28%0A%20%20%20%20%20%20%20%20%20%20%20%20%20%20%20%20%7B%22extraClasses%22%3A%20%22fa-rotate-0%22%2C%20%22icon%22%3A%20%22cloud%22%2C%20%22iconColor%22%3A%20%22white%22%2C%20%22markerColor%22%3A%20%22pink%22%2C%20%22prefix%22%3A%20%22glyphicon%22%7D%0A%20%20%20%20%20%20%20%20%20%20%20%20%29%3B%0A%20%20%20%20%20%20%20%20%20%20%20%20marker_8d982ffc6b9d4568ae928613749372d3.setIcon%28icon_d8d94e99dd11484cae29ef66d0ec3873%29%3B%0A%20%20%20%20%20%20%20%20%0A%20%20%20%20%0A%20%20%20%20%20%20%20%20var%20popup_ab453bb9c9f841868b224f39be43e77a%20%3D%20L.popup%28%7B%22maxWidth%22%3A%20%22100%25%22%7D%29%3B%0A%0A%20%20%20%20%20%20%20%20%0A%20%20%20%20%20%20%20%20%20%20%20%20var%20i_frame_3a6384c771aa4fb3be4844284eddebaf%20%3D%20%24%28%60%3Ciframe%20src%3D%22data%3Atext/html%3Bcharset%3Dutf-8%3Bbase64%2CCiAgICAKPCFET0NUWVBFIGh0bWw%2BCjxodG1sPgo8aGVhZD4KPC9oZWFkPgogICAgPHRhYmxlIHN0eWxlPSJoZWlnaHQ6IDEwNXB4OyB3aWR0aDogMjAwcHg7Ij4KPHRib2R5Pgo8dHI%2BCjx0ZCBzdHlsZT0iYmFja2dyb3VuZC1jb2xvcjogI0ZEMkM4ODsiPjxzcGFuIHN0eWxlPSJjb2xvcjogI2ZmZmZmZjsiPkRhdHVtPC9zcGFuPjwvdGQ%2BCjx0ZCBzdHlsZT0id2lkdGg6IDMwMHB4O2JhY2tncm91bmQtY29sb3I6ICNGRUFERDE7Ij4yMy4wMy4yMjwvdGQ%2BCjwvdHI%2BCjx0cj4KPHRkIHN0eWxlPSJiYWNrZ3JvdW5kLWNvbG9yOiAjRkQyQzg4OyI%2BPHNwYW4gc3R5bGU9ImNvbG9yOiAjZmZmZmZmOyI%2BT3J0PC9zcGFuPjwvdGQ%2BCjx0ZCBzdHlsZT0id2lkdGg6IDMwMHB4O2JhY2tncm91bmQtY29sb3I6ICNGRUFERDE7Ij5XaWVuIEhpZXR6aW5nPC90ZD4KPC90cj4KPHRyPgo8dGQgc3R5bGU9ImJhY2tncm91bmQtY29sb3I6ICNGRDJDODg7Ij48c3BhbiBzdHlsZT0iY29sb3I6ICNmZmZmZmY7Ij5UYWV0ZXI8L3NwYW4%2BPC90ZD4KPHRkIHN0eWxlPSJ3aWR0aDogMzAwcHg7YmFja2dyb3VuZC1jb2xvcjogI0ZFQUREMTsiPkVoZW1hbm48L3RkPgo8L3RyPgo8L3Rib2R5Pgo8L3RhYmxlPgo8L2h0bWw%2B%22%20width%3D%22240%22%20style%3D%22border%3Anone%20%21important%3B%22%20height%3D%22150%22%3E%3C/iframe%3E%60%29%5B0%5D%3B%0A%20%20%20%20%20%20%20%20%20%20%20%20popup_ab453bb9c9f841868b224f39be43e77a.setContent%28i_frame_3a6384c771aa4fb3be4844284eddebaf%29%3B%0A%20%20%20%20%20%20%20%20%0A%0A%20%20%20%20%20%20%20%20marker_8d982ffc6b9d4568ae928613749372d3.bindPopup%28popup_ab453bb9c9f841868b224f39be43e77a%29%0A%20%20%20%20%20%20%20%20%3B%0A%0A%20%20%20%20%20%20%20%20%0A%20%20%20%20%0A%20%20%20%20%0A%20%20%20%20%20%20%20%20%20%20%20%20var%20marker_784cfa8ea1184c4181c30122f1ba5577%20%3D%20L.marker%28%0A%20%20%20%20%20%20%20%20%20%20%20%20%20%20%20%20%5B48.3846124%2C%2016.2076303%5D%2C%0A%20%20%20%20%20%20%20%20%20%20%20%20%20%20%20%20%7B%7D%0A%20%20%20%20%20%20%20%20%20%20%20%20%29.addTo%28map_55899373c30a4c4ea64e83a1203e62fe%29%3B%0A%20%20%20%20%20%20%20%20%0A%20%20%20%20%0A%20%20%20%20%20%20%20%20%20%20%20%20var%20icon_d570a82b15eb4c4db87f652840174403%20%3D%20L.AwesomeMarkers.icon%28%0A%20%20%20%20%20%20%20%20%20%20%20%20%20%20%20%20%7B%22extraClasses%22%3A%20%22fa-rotate-0%22%2C%20%22icon%22%3A%20%22cloud%22%2C%20%22iconColor%22%3A%20%22white%22%2C%20%22markerColor%22%3A%20%22pink%22%2C%20%22prefix%22%3A%20%22glyphicon%22%7D%0A%20%20%20%20%20%20%20%20%20%20%20%20%29%3B%0A%20%20%20%20%20%20%20%20%20%20%20%20marker_784cfa8ea1184c4181c30122f1ba5577.setIcon%28icon_d570a82b15eb4c4db87f652840174403%29%3B%0A%20%20%20%20%20%20%20%20%0A%20%20%20%20%0A%20%20%20%20%20%20%20%20var%20popup_85e0aac4f7f94a2386a1b113a8dc5b68%20%3D%20L.popup%28%7B%22maxWidth%22%3A%20%22100%25%22%7D%29%3B%0A%0A%20%20%20%20%20%20%20%20%0A%20%20%20%20%20%20%20%20%20%20%20%20var%20i_frame_52792f4cc069412cb86d9f54e2001aea%20%3D%20%24%28%60%3Ciframe%20src%3D%22data%3Atext/html%3Bcharset%3Dutf-8%3Bbase64%2CCiAgICAKPCFET0NUWVBFIGh0bWw%2BCjxodG1sPgo8aGVhZD4KPC9oZWFkPgogICAgPHRhYmxlIHN0eWxlPSJoZWlnaHQ6IDEwNXB4OyB3aWR0aDogMjAwcHg7Ij4KPHRib2R5Pgo8dHI%2BCjx0ZCBzdHlsZT0iYmFja2dyb3VuZC1jb2xvcjogI0ZEMkM4ODsiPjxzcGFuIHN0eWxlPSJjb2xvcjogI2ZmZmZmZjsiPkRhdHVtPC9zcGFuPjwvdGQ%2BCjx0ZCBzdHlsZT0id2lkdGg6IDMwMHB4O2JhY2tncm91bmQtY29sb3I6ICNGRUFERDE7Ij4yNS4wMy4yMjwvdGQ%2BCjwvdHI%2BCjx0cj4KPHRkIHN0eWxlPSJiYWNrZ3JvdW5kLWNvbG9yOiAjRkQyQzg4OyI%2BPHNwYW4gc3R5bGU9ImNvbG9yOiAjZmZmZmZmOyI%2BT3J0PC9zcGFuPjwvdGQ%2BCjx0ZCBzdHlsZT0id2lkdGg6IDMwMHB4O2JhY2tncm91bmQtY29sb3I6ICNGRUFERDE7Ij5TdG9ja2VyYXUsIEJlemlyayBLb3JuZXVidXJnIC8gTk9FPC90ZD4KPC90cj4KPHRyPgo8dGQgc3R5bGU9ImJhY2tncm91bmQtY29sb3I6ICNGRDJDODg7Ij48c3BhbiBzdHlsZT0iY29sb3I6ICNmZmZmZmY7Ij5UYWV0ZXI8L3NwYW4%2BPC90ZD4KPHRkIHN0eWxlPSJ3aWR0aDogMzAwcHg7YmFja2dyb3VuZC1jb2xvcjogI0ZFQUREMTsiPkxlYmVuc2dlZmFlaHJ0ZXI8L3RkPgo8L3RyPgo8L3Rib2R5Pgo8L3RhYmxlPgo8L2h0bWw%2B%22%20width%3D%22240%22%20style%3D%22border%3Anone%20%21important%3B%22%20height%3D%22150%22%3E%3C/iframe%3E%60%29%5B0%5D%3B%0A%20%20%20%20%20%20%20%20%20%20%20%20popup_85e0aac4f7f94a2386a1b113a8dc5b68.setContent%28i_frame_52792f4cc069412cb86d9f54e2001aea%29%3B%0A%20%20%20%20%20%20%20%20%0A%0A%20%20%20%20%20%20%20%20marker_784cfa8ea1184c4181c30122f1ba5577.bindPopup%28popup_85e0aac4f7f94a2386a1b113a8dc5b68%29%0A%20%20%20%20%20%20%20%20%3B%0A%0A%20%20%20%20%20%20%20%20%0A%20%20%20%20%0A%20%20%20%20%0A%20%20%20%20%20%20%20%20%20%20%20%20var%20marker_c1dc81cb60f641d5bf561d9c08bad42b%20%3D%20L.marker%28%0A%20%20%20%20%20%20%20%20%20%20%20%20%20%20%20%20%5B47.6188448%2C%2012.3962943%5D%2C%0A%20%20%20%20%20%20%20%20%20%20%20%20%20%20%20%20%7B%7D%0A%20%20%20%20%20%20%20%20%20%20%20%20%29.addTo%28map_55899373c30a4c4ea64e83a1203e62fe%29%3B%0A%20%20%20%20%20%20%20%20%0A%20%20%20%20%0A%20%20%20%20%20%20%20%20%20%20%20%20var%20icon_cf06d5fa91fc4cf49d212da211b19f47%20%3D%20L.AwesomeMarkers.icon%28%0A%20%20%20%20%20%20%20%20%20%20%20%20%20%20%20%20%7B%22extraClasses%22%3A%20%22fa-rotate-0%22%2C%20%22icon%22%3A%20%22cloud%22%2C%20%22iconColor%22%3A%20%22white%22%2C%20%22markerColor%22%3A%20%22pink%22%2C%20%22prefix%22%3A%20%22glyphicon%22%7D%0A%20%20%20%20%20%20%20%20%20%20%20%20%29%3B%0A%20%20%20%20%20%20%20%20%20%20%20%20marker_c1dc81cb60f641d5bf561d9c08bad42b.setIcon%28icon_cf06d5fa91fc4cf49d212da211b19f47%29%3B%0A%20%20%20%20%20%20%20%20%0A%20%20%20%20%0A%20%20%20%20%20%20%20%20var%20popup_56eca98461da4766a5bb7eda80e10e6c%20%3D%20L.popup%28%7B%22maxWidth%22%3A%20%22100%25%22%7D%29%3B%0A%0A%20%20%20%20%20%20%20%20%0A%20%20%20%20%20%20%20%20%20%20%20%20var%20i_frame_85424205e1d845ac90de48993e7c63d4%20%3D%20%24%28%60%3Ciframe%20src%3D%22data%3Atext/html%3Bcharset%3Dutf-8%3Bbase64%2CCiAgICAKPCFET0NUWVBFIGh0bWw%2BCjxodG1sPgo8aGVhZD4KPC9oZWFkPgogICAgPHRhYmxlIHN0eWxlPSJoZWlnaHQ6IDEwNXB4OyB3aWR0aDogMjAwcHg7Ij4KPHRib2R5Pgo8dHI%2BCjx0ZCBzdHlsZT0iYmFja2dyb3VuZC1jb2xvcjogI0ZEMkM4ODsiPjxzcGFuIHN0eWxlPSJjb2xvcjogI2ZmZmZmZjsiPkRhdHVtPC9zcGFuPjwvdGQ%2BCjx0ZCBzdHlsZT0id2lkdGg6IDMwMHB4O2JhY2tncm91bmQtY29sb3I6ICNGRUFERDE7Ij4yNS4wNC4yMjwvdGQ%2BCjwvdHI%2BCjx0cj4KPHRkIHN0eWxlPSJiYWNrZ3JvdW5kLWNvbG9yOiAjRkQyQzg4OyI%2BPHNwYW4gc3R5bGU9ImNvbG9yOiAjZmZmZmZmOyI%2BT3J0PC9zcGFuPjwvdGQ%2BCjx0ZCBzdHlsZT0id2lkdGg6IDMwMHB4O2JhY2tncm91bmQtY29sb3I6ICNGRUFERDE7Ij5TY2h3ZW5kdCwgQmV6aXJrIEtpdHpidWVoZWwgLyBLYWVybnRlbjwvdGQ%2BCjwvdHI%2BCjx0cj4KPHRkIHN0eWxlPSJiYWNrZ3JvdW5kLWNvbG9yOiAjRkQyQzg4OyI%2BPHNwYW4gc3R5bGU9ImNvbG9yOiAjZmZmZmZmOyI%2BVGFldGVyPC9zcGFuPjwvdGQ%2BCjx0ZCBzdHlsZT0id2lkdGg6IDMwMHB4O2JhY2tncm91bmQtY29sb3I6ICNGRUFERDE7Ij5FaGVtYW5uPC90ZD4KPC90cj4KPC90Ym9keT4KPC90YWJsZT4KPC9odG1sPg%3D%3D%22%20width%3D%22240%22%20style%3D%22border%3Anone%20%21important%3B%22%20height%3D%22150%22%3E%3C/iframe%3E%60%29%5B0%5D%3B%0A%20%20%20%20%20%20%20%20%20%20%20%20popup_56eca98461da4766a5bb7eda80e10e6c.setContent%28i_frame_85424205e1d845ac90de48993e7c63d4%29%3B%0A%20%20%20%20%20%20%20%20%0A%0A%20%20%20%20%20%20%20%20marker_c1dc81cb60f641d5bf561d9c08bad42b.bindPopup%28popup_56eca98461da4766a5bb7eda80e10e6c%29%0A%20%20%20%20%20%20%20%20%3B%0A%0A%20%20%20%20%20%20%20%20%0A%20%20%20%20%0A%20%20%20%20%0A%20%20%20%20%20%20%20%20%20%20%20%20var%20marker_df1660ad1897470e9a7d34e3ef885c01%20%3D%20L.marker%28%0A%20%20%20%20%20%20%20%20%20%20%20%20%20%20%20%20%5B48.1936436%2C%2016.3962864%5D%2C%0A%20%20%20%20%20%20%20%20%20%20%20%20%20%20%20%20%7B%7D%0A%20%20%20%20%20%20%20%20%20%20%20%20%29.addTo%28map_55899373c30a4c4ea64e83a1203e62fe%29%3B%0A%20%20%20%20%20%20%20%20%0A%20%20%20%20%0A%20%20%20%20%20%20%20%20%20%20%20%20var%20icon_6443f64ebd04409bbfe5367a3bc66628%20%3D%20L.AwesomeMarkers.icon%28%0A%20%20%20%20%20%20%20%20%20%20%20%20%20%20%20%20%7B%22extraClasses%22%3A%20%22fa-rotate-0%22%2C%20%22icon%22%3A%20%22cloud%22%2C%20%22iconColor%22%3A%20%22white%22%2C%20%22markerColor%22%3A%20%22pink%22%2C%20%22prefix%22%3A%20%22glyphicon%22%7D%0A%20%20%20%20%20%20%20%20%20%20%20%20%29%3B%0A%20%20%20%20%20%20%20%20%20%20%20%20marker_df1660ad1897470e9a7d34e3ef885c01.setIcon%28icon_6443f64ebd04409bbfe5367a3bc66628%29%3B%0A%20%20%20%20%20%20%20%20%0A%20%20%20%20%0A%20%20%20%20%20%20%20%20var%20popup_0adc2c9826114cd7a240340cc0eb95bd%20%3D%20L.popup%28%7B%22maxWidth%22%3A%20%22100%25%22%7D%29%3B%0A%0A%20%20%20%20%20%20%20%20%0A%20%20%20%20%20%20%20%20%20%20%20%20var%20i_frame_69271f4baa63453d82636d348890db0e%20%3D%20%24%28%60%3Ciframe%20src%3D%22data%3Atext/html%3Bcharset%3Dutf-8%3Bbase64%2CCiAgICAKPCFET0NUWVBFIGh0bWw%2BCjxodG1sPgo8aGVhZD4KPC9oZWFkPgogICAgPHRhYmxlIHN0eWxlPSJoZWlnaHQ6IDEwNXB4OyB3aWR0aDogMjAwcHg7Ij4KPHRib2R5Pgo8dHI%2BCjx0ZCBzdHlsZT0iYmFja2dyb3VuZC1jb2xvcjogI0ZEMkM4ODsiPjxzcGFuIHN0eWxlPSJjb2xvcjogI2ZmZmZmZjsiPkRhdHVtPC9zcGFuPjwvdGQ%2BCjx0ZCBzdHlsZT0id2lkdGg6IDMwMHB4O2JhY2tncm91bmQtY29sb3I6ICNGRUFERDE7Ij4xMS4wNS4yMjwvdGQ%2BCjwvdHI%2BCjx0cj4KPHRkIHN0eWxlPSJiYWNrZ3JvdW5kLWNvbG9yOiAjRkQyQzg4OyI%2BPHNwYW4gc3R5bGU9ImNvbG9yOiAjZmZmZmZmOyI%2BT3J0PC9zcGFuPjwvdGQ%2BCjx0ZCBzdHlsZT0id2lkdGg6IDMwMHB4O2JhY2tncm91bmQtY29sb3I6ICNGRUFERDE7Ij5XaWVuIExhbmRzdHJhc3NlPC90ZD4KPC90cj4KPHRyPgo8dGQgc3R5bGU9ImJhY2tncm91bmQtY29sb3I6ICNGRDJDODg7Ij48c3BhbiBzdHlsZT0iY29sb3I6ICNmZmZmZmY7Ij5UYWV0ZXI8L3NwYW4%2BPC90ZD4KPHRkIHN0eWxlPSJ3aWR0aDogMzAwcHg7YmFja2dyb3VuZC1jb2xvcjogI0ZFQUREMTsiPlNvaG48L3RkPgo8L3RyPgo8L3Rib2R5Pgo8L3RhYmxlPgo8L2h0bWw%2B%22%20width%3D%22240%22%20style%3D%22border%3Anone%20%21important%3B%22%20height%3D%22150%22%3E%3C/iframe%3E%60%29%5B0%5D%3B%0A%20%20%20%20%20%20%20%20%20%20%20%20popup_0adc2c9826114cd7a240340cc0eb95bd.setContent%28i_frame_69271f4baa63453d82636d348890db0e%29%3B%0A%20%20%20%20%20%20%20%20%0A%0A%20%20%20%20%20%20%20%20marker_df1660ad1897470e9a7d34e3ef885c01.bindPopup%28popup_0adc2c9826114cd7a240340cc0eb95bd%29%0A%20%20%20%20%20%20%20%20%3B%0A%0A%20%20%20%20%20%20%20%20%0A%20%20%20%20%0A%20%20%20%20%0A%20%20%20%20%20%20%20%20%20%20%20%20var%20marker_680bf70c120045d888d3327251556d4b%20%3D%20L.marker%28%0A%20%20%20%20%20%20%20%20%20%20%20%20%20%20%20%20%5B47.2921289%2C%2012.7162818%5D%2C%0A%20%20%20%20%20%20%20%20%20%20%20%20%20%20%20%20%7B%7D%0A%20%20%20%20%20%20%20%20%20%20%20%20%29.addTo%28map_55899373c30a4c4ea64e83a1203e62fe%29%3B%0A%20%20%20%20%20%20%20%20%0A%20%20%20%20%0A%20%20%20%20%20%20%20%20%20%20%20%20var%20icon_e928d4ecbeb849bd983c24f8f8de13c3%20%3D%20L.AwesomeMarkers.icon%28%0A%20%20%20%20%20%20%20%20%20%20%20%20%20%20%20%20%7B%22extraClasses%22%3A%20%22fa-rotate-0%22%2C%20%22icon%22%3A%20%22cloud%22%2C%20%22iconColor%22%3A%20%22white%22%2C%20%22markerColor%22%3A%20%22pink%22%2C%20%22prefix%22%3A%20%22glyphicon%22%7D%0A%20%20%20%20%20%20%20%20%20%20%20%20%29%3B%0A%20%20%20%20%20%20%20%20%20%20%20%20marker_680bf70c120045d888d3327251556d4b.setIcon%28icon_e928d4ecbeb849bd983c24f8f8de13c3%29%3B%0A%20%20%20%20%20%20%20%20%0A%20%20%20%20%0A%20%20%20%20%20%20%20%20var%20popup_48ee569ddc79435580daaac490e7a880%20%3D%20L.popup%28%7B%22maxWidth%22%3A%20%22100%25%22%7D%29%3B%0A%0A%20%20%20%20%20%20%20%20%0A%20%20%20%20%20%20%20%20%20%20%20%20var%20i_frame_e3a998a5db1142ea85e26fad5c9b103a%20%3D%20%24%28%60%3Ciframe%20src%3D%22data%3Atext/html%3Bcharset%3Dutf-8%3Bbase64%2CCiAgICAKPCFET0NUWVBFIGh0bWw%2BCjxodG1sPgo8aGVhZD4KPC9oZWFkPgogICAgPHRhYmxlIHN0eWxlPSJoZWlnaHQ6IDEwNXB4OyB3aWR0aDogMjAwcHg7Ij4KPHRib2R5Pgo8dHI%2BCjx0ZCBzdHlsZT0iYmFja2dyb3VuZC1jb2xvcjogI0ZEMkM4ODsiPjxzcGFuIHN0eWxlPSJjb2xvcjogI2ZmZmZmZjsiPkRhdHVtPC9zcGFuPjwvdGQ%2BCjx0ZCBzdHlsZT0id2lkdGg6IDMwMHB4O2JhY2tncm91bmQtY29sb3I6ICNGRUFERDE7Ij4xMy4wNS4yMjwvdGQ%2BCjwvdHI%2BCjx0cj4KPHRkIHN0eWxlPSJiYWNrZ3JvdW5kLWNvbG9yOiAjRkQyQzg4OyI%2BPHNwYW4gc3R5bGU9ImNvbG9yOiAjZmZmZmZmOyI%2BT3J0PC9zcGFuPjwvdGQ%2BCjx0ZCBzdHlsZT0id2lkdGg6IDMwMHB4O2JhY2tncm91bmQtY29sb3I6ICNGRUFERDE7Ij5QaWVzZW5kb3JmLCBQaW56Z2F1IC8gU2FsemJ1cmc8L3RkPgo8L3RyPgo8dHI%2BCjx0ZCBzdHlsZT0iYmFja2dyb3VuZC1jb2xvcjogI0ZEMkM4ODsiPjxzcGFuIHN0eWxlPSJjb2xvcjogI2ZmZmZmZjsiPlRhZXRlcjwvc3Bhbj48L3RkPgo8dGQgc3R5bGU9IndpZHRoOiAzMDBweDtiYWNrZ3JvdW5kLWNvbG9yOiAjRkVBREQxOyI%2BRXgtTWFubjwvdGQ%2BCjwvdHI%2BCjwvdGJvZHk%2BCjwvdGFibGU%2BCjwvaHRtbD4%3D%22%20width%3D%22240%22%20style%3D%22border%3Anone%20%21important%3B%22%20height%3D%22150%22%3E%3C/iframe%3E%60%29%5B0%5D%3B%0A%20%20%20%20%20%20%20%20%20%20%20%20popup_48ee569ddc79435580daaac490e7a880.setContent%28i_frame_e3a998a5db1142ea85e26fad5c9b103a%29%3B%0A%20%20%20%20%20%20%20%20%0A%0A%20%20%20%20%20%20%20%20marker_680bf70c120045d888d3327251556d4b.bindPopup%28popup_48ee569ddc79435580daaac490e7a880%29%0A%20%20%20%20%20%20%20%20%3B%0A%0A%20%20%20%20%20%20%20%20%0A%20%20%20%20%0A%20%20%20%20%0A%20%20%20%20%20%20%20%20%20%20%20%20var%20marker_a3e02c96b9a34195a54a27b90d745161%20%3D%20L.marker%28%0A%20%20%20%20%20%20%20%20%20%20%20%20%20%20%20%20%5B47.3612353%2C%2010.5456804%5D%2C%0A%20%20%20%20%20%20%20%20%20%20%20%20%20%20%20%20%7B%7D%0A%20%20%20%20%20%20%20%20%20%20%20%20%29.addTo%28map_55899373c30a4c4ea64e83a1203e62fe%29%3B%0A%20%20%20%20%20%20%20%20%0A%20%20%20%20%0A%20%20%20%20%20%20%20%20%20%20%20%20var%20icon_2c5e5f4ae2c247c69c9935ea965accca%20%3D%20L.AwesomeMarkers.icon%28%0A%20%20%20%20%20%20%20%20%20%20%20%20%20%20%20%20%7B%22extraClasses%22%3A%20%22fa-rotate-0%22%2C%20%22icon%22%3A%20%22cloud%22%2C%20%22iconColor%22%3A%20%22white%22%2C%20%22markerColor%22%3A%20%22pink%22%2C%20%22prefix%22%3A%20%22glyphicon%22%7D%0A%20%20%20%20%20%20%20%20%20%20%20%20%29%3B%0A%20%20%20%20%20%20%20%20%20%20%20%20marker_a3e02c96b9a34195a54a27b90d745161.setIcon%28icon_2c5e5f4ae2c247c69c9935ea965accca%29%3B%0A%20%20%20%20%20%20%20%20%0A%20%20%20%20%0A%20%20%20%20%20%20%20%20var%20popup_0b63dcc4642f4f41925fe6e1ea3657f4%20%3D%20L.popup%28%7B%22maxWidth%22%3A%20%22100%25%22%7D%29%3B%0A%0A%20%20%20%20%20%20%20%20%0A%20%20%20%20%20%20%20%20%20%20%20%20var%20i_frame_8f939892389f483b9078c9b7bfd22354%20%3D%20%24%28%60%3Ciframe%20src%3D%22data%3Atext/html%3Bcharset%3Dutf-8%3Bbase64%2CCiAgICAKPCFET0NUWVBFIGh0bWw%2BCjxodG1sPgo8aGVhZD4KPC9oZWFkPgogICAgPHRhYmxlIHN0eWxlPSJoZWlnaHQ6IDEwNXB4OyB3aWR0aDogMjAwcHg7Ij4KPHRib2R5Pgo8dHI%2BCjx0ZCBzdHlsZT0iYmFja2dyb3VuZC1jb2xvcjogI0ZEMkM4ODsiPjxzcGFuIHN0eWxlPSJjb2xvcjogI2ZmZmZmZjsiPkRhdHVtPC9zcGFuPjwvdGQ%2BCjx0ZCBzdHlsZT0id2lkdGg6IDMwMHB4O2JhY2tncm91bmQtY29sb3I6ICNGRUFERDE7Ij4zMC4wNS4yMjwvdGQ%2BCjwvdHI%2BCjx0cj4KPHRkIHN0eWxlPSJiYWNrZ3JvdW5kLWNvbG9yOiAjRkQyQzg4OyI%2BPHNwYW4gc3R5bGU9ImNvbG9yOiAjZmZmZmZmOyI%2BT3J0PC9zcGFuPjwvdGQ%2BCjx0ZCBzdHlsZT0id2lkdGg6IDMwMHB4O2JhY2tncm91bmQtY29sb3I6ICNGRUFERDE7Ij5SZXV0dGUgLyBUaXJvbDwvdGQ%2BCjwvdHI%2BCjx0cj4KPHRkIHN0eWxlPSJiYWNrZ3JvdW5kLWNvbG9yOiAjRkQyQzg4OyI%2BPHNwYW4gc3R5bGU9ImNvbG9yOiAjZmZmZmZmOyI%2BVGFldGVyPC9zcGFuPjwvdGQ%2BCjx0ZCBzdHlsZT0id2lkdGg6IDMwMHB4O2JhY2tncm91bmQtY29sb3I6ICNGRUFERDE7Ij5CZXppZWh1bmdzcGFydG5lcjwvdGQ%2BCjwvdHI%2BCjwvdGJvZHk%2BCjwvdGFibGU%2BCjwvaHRtbD4%3D%22%20width%3D%22240%22%20style%3D%22border%3Anone%20%21important%3B%22%20height%3D%22150%22%3E%3C/iframe%3E%60%29%5B0%5D%3B%0A%20%20%20%20%20%20%20%20%20%20%20%20popup_0b63dcc4642f4f41925fe6e1ea3657f4.setContent%28i_frame_8f939892389f483b9078c9b7bfd22354%29%3B%0A%20%20%20%20%20%20%20%20%0A%0A%20%20%20%20%20%20%20%20marker_a3e02c96b9a34195a54a27b90d745161.bindPopup%28popup_0b63dcc4642f4f41925fe6e1ea3657f4%29%0A%20%20%20%20%20%20%20%20%3B%0A%0A%20%20%20%20%20%20%20%20%0A%20%20%20%20%0A%3C/script%3E onload=\"this.contentDocument.open();this.contentDocument.write(    decodeURIComponent(this.getAttribute('data-html')));this.contentDocument.close();\" allowfullscreen webkitallowfullscreen mozallowfullscreen></iframe></div></div>"
      ],
      "text/plain": [
       "<folium.folium.Map at 0x7ff07c6a73a0>"
      ]
     },
     "execution_count": 103,
     "metadata": {},
     "output_type": "execute_result"
    }
   ],
   "source": [
    "location = df['Koordinaten A'].mean(), df['Koordinaten B'].mean()\n",
    "m = folium.Map(location=location,zoom_start=6,min_zoom=5)\n",
    "\n",
    "for i in range(0,len(df)):\n",
    "    html = popup_html(i)\n",
    " \n",
    "    iframe = branca.element.IFrame(html=html,width=240,height=150)\n",
    "    popup = folium.Popup(iframe,parse_html=True)\n",
    "    \n",
    "    folium.Marker([df['Koordinaten A'].iloc[i],df['Koordinaten B'].iloc[i]],\n",
    "                  popup=popup,icon=folium.Icon(color='pink',icon='cloud')).add_to(m)\n",
    "\n",
    "m"
   ]
  }
 ],
 "metadata": {
  "kernelspec": {
   "display_name": "Python 3",
   "language": "python",
   "name": "python3"
  },
  "language_info": {
   "codemirror_mode": {
    "name": "ipython",
    "version": 3
   },
   "file_extension": ".py",
   "mimetype": "text/x-python",
   "name": "python",
   "nbconvert_exporter": "python",
   "pygments_lexer": "ipython3",
   "version": "3.8.8"
  }
 },
 "nbformat": 4,
 "nbformat_minor": 5
}
